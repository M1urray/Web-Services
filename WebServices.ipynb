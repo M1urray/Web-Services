{
 "cells": [
  {
   "cell_type": "markdown",
   "id": "2349d368-8b93-4c52-9ac6-866b40d01f9f",
   "metadata": {},
   "source": [
    "# EXTRACT WEB SERVICES \n",
    "## Extract web services from already set up business central web services"
   ]
  },
  {
   "cell_type": "code",
   "execution_count": 1,
   "id": "147d1d38-c99f-4626-a09d-56e53e99022b",
   "metadata": {},
   "outputs": [],
   "source": [
    "import pandas as pd"
   ]
  },
  {
   "cell_type": "code",
   "execution_count": 3,
   "id": "720e900e-1814-4d75-b0d3-45691cd1e6f1",
   "metadata": {},
   "outputs": [],
   "source": [
    "def compare_excel_files(file1, file2, output_csv, check_column):\n",
    "    # Read Excel files into dataframes\n",
    "    df1 = pd.read_excel(file1)\n",
    "    df2 = pd.read_excel(file2)\n",
    "\n",
    "    # Find values in df1 that are not in df2 based on the specified column\n",
    "    df1_not_in_df2 = df1[~df1[check_column].isin(df2[check_column])]\n",
    "\n",
    "    # Find values in df2 that are not in df1 based on the specified column\n",
    "    df2_not_in_df1 = df2[~df2[check_column].isin(df1[check_column])]\n",
    "\n",
    "    # Combine the results into a single dataframe\n",
    "    result_df = pd.concat([df1_not_in_df2, df2_not_in_df1])\n",
    "\n",
    "    # Write the result to a CSV file\n",
    "    result_df.to_csv(output_csv, index=False)\n",
    "    print(f\"Comparison results saved to {output_csv}\")"
   ]
  },
  {
   "cell_type": "code",
   "execution_count": 4,
   "id": "dd139a51-3008-4d40-84ac-72f8a6bd37cf",
   "metadata": {},
   "outputs": [],
   "source": [
    "# Specify the file paths and column name\n",
    "file1_path = \"Chuka.xlsx\"\n",
    "file2_path = \"Moi.xlsx\"\n",
    "output_csv_path = \"output.csv\"\n",
    "checking_column = \"Service Name\""
   ]
  },
  {
   "cell_type": "code",
   "execution_count": 5,
   "id": "97bae1e1-7903-41f6-9a43-08573f745f29",
   "metadata": {},
   "outputs": [
    {
     "name": "stdout",
     "output_type": "stream",
     "text": [
      "Comparison results saved to output.csv\n"
     ]
    }
   ],
   "source": [
    "compare_excel_files(file1_path, file2_path, output_csv_path, checking_column)"
   ]
  },
  {
   "cell_type": "code",
   "execution_count": 6,
   "id": "a036c74e-423d-4b42-95d7-8380c6898fb9",
   "metadata": {},
   "outputs": [
    {
     "data": {
      "text/html": [
       "<div>\n",
       "<style scoped>\n",
       "    .dataframe tbody tr th:only-of-type {\n",
       "        vertical-align: middle;\n",
       "    }\n",
       "\n",
       "    .dataframe tbody tr th {\n",
       "        vertical-align: top;\n",
       "    }\n",
       "\n",
       "    .dataframe thead th {\n",
       "        text-align: right;\n",
       "    }\n",
       "</style>\n",
       "<table border=\"1\" class=\"dataframe\">\n",
       "  <thead>\n",
       "    <tr style=\"text-align: right;\">\n",
       "      <th></th>\n",
       "      <th>Object Type</th>\n",
       "      <th>Object ID</th>\n",
       "      <th>Object Name</th>\n",
       "      <th>Service Name</th>\n",
       "      <th>All Tenants</th>\n",
       "      <th>Published</th>\n",
       "      <th>OData V4 URL</th>\n",
       "      <th>SOAP URL</th>\n",
       "    </tr>\n",
       "  </thead>\n",
       "  <tbody>\n",
       "  </tbody>\n",
       "</table>\n",
       "</div>"
      ],
      "text/plain": [
       "Empty DataFrame\n",
       "Columns: [Object Type, Object ID, Object Name, Service Name, All Tenants, Published, OData V4 URL, SOAP URL]\n",
       "Index: []"
      ]
     },
     "execution_count": 6,
     "metadata": {},
     "output_type": "execute_result"
    }
   ],
   "source": [
    "dfResult = pd.read_csv(\"output.csv\")\n",
    "dfResult.head(20)"
   ]
  },
  {
   "cell_type": "code",
   "execution_count": null,
   "id": "7b0205da-3ce6-439a-ba2d-8eb00057573c",
   "metadata": {},
   "outputs": [],
   "source": []
  }
 ],
 "metadata": {
  "kernelspec": {
   "display_name": "Python 3 (ipykernel)",
   "language": "python",
   "name": "python3"
  },
  "language_info": {
   "codemirror_mode": {
    "name": "ipython",
    "version": 3
   },
   "file_extension": ".py",
   "mimetype": "text/x-python",
   "name": "python",
   "nbconvert_exporter": "python",
   "pygments_lexer": "ipython3",
   "version": "3.12.0"
  }
 },
 "nbformat": 4,
 "nbformat_minor": 5
}
